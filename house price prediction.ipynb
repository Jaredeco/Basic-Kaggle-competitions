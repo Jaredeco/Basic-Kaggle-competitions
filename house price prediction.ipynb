{
 "cells": [
  {
   "cell_type": "code",
   "execution_count": 2,
   "metadata": {},
   "outputs": [],
   "source": [
    "import torch \n",
    "import torch.nn as nn\n",
    "import numpy as np\n",
    "import pandas as pd\n",
    "from torch.utils.data import DataLoader\n",
    "from torch.autograd import Variable\n",
    "import torch.nn.functional as F\n",
    "from sklearn import preprocessing"
   ]
  },
  {
   "cell_type": "code",
   "execution_count": 6,
   "metadata": {},
   "outputs": [],
   "source": [
    "nor = preprocessing.MinMaxScaler()\n",
    "train_path = r\"D:\\Datasets\\house prices\\train.csv\"\n",
    "test_path = r\"D:\\Datasets\\house prices\\test.csv\"\n",
    "train_file = pd.read_csv(train_path)\n",
    "test_file = pd.read_csv(test_path)\n",
    "train_file.drop(\"Id\", axis=1, inplace=True)\n",
    "test_file.drop(\"Id\", axis=1, inplace=True)\n",
    "train_file.fillna(train_file.median(), inplace=True)\n",
    "test_file.fillna(train_file.median(), inplace=True)\n",
    "y_train = train_file[\"SalePrice\"].values\n",
    "y_train.resize(1460, 1)\n",
    "num_cols = list(train_file._get_numeric_data().columns)\n",
    "num_cols.remove(\"SalePrice\")\n",
    "train_file = pd.get_dummies(train_file, drop_first=True, dummy_na=True)\n",
    "test_file = pd.get_dummies(test_file, drop_first=True, dummy_na=True)\n",
    "train_file = nor.fit_transform(train_file)\n",
    "test_file = nor.fit_transform(test_file)\n",
    "X_train = train_file\n",
    "x1 = pd.DataFrame(train_file)\n",
    "x2 = pd.DataFrame(test_file)\n",
    "x2 = x2.align(x1, axis=1)[0]\n",
    "X_test = x2.values"
   ]
  },
  {
   "cell_type": "code",
   "execution_count": 7,
   "metadata": {},
   "outputs": [],
   "source": [
    "X_train = Variable(torch.from_numpy(X_train).float())\n",
    "y_train = Variable(torch.from_numpy(y_train).float())\n",
    "X_test = Variable(torch.from_numpy(X_test).float())"
   ]
  },
  {
   "cell_type": "code",
   "execution_count": 8,
   "metadata": {},
   "outputs": [],
   "source": [
    "class Model(nn.Module):\n",
    "    def __init__(self):\n",
    "        super(Model, self).__init__()\n",
    "        self.fc1 = nn.Linear(289, 128)\n",
    "        self.fc2 = nn.Linear(128, 128)\n",
    "        self.fc3 = nn.Linear(128, 128)\n",
    "        self.fc4 = nn.Linear(128, 128)\n",
    "        self.fc5 = nn.Linear(128, 1)\n",
    "        self.drop = nn.Dropout(0.2)\n",
    "    def forward(self, x):\n",
    "        x = F.relu(self.fc1(x))\n",
    "        x = self.drop(F.relu(self.fc2(x)))\n",
    "        x = self.drop(F.relu(self.fc3(x)))\n",
    "        x = F.relu(self.fc4(x))\n",
    "        x = F.relu(self.fc5(x))\n",
    "        return x\n",
    "device = torch.device(\"cuda\" if torch.cuda.is_available() else \"cpu\")\n",
    "net = Model().cuda()"
   ]
  },
  {
   "cell_type": "code",
   "execution_count": 10,
   "metadata": {},
   "outputs": [],
   "source": [
    "loss_fn = nn.MSELoss()\n",
    "opt = torch.optim.Adam(net.parameters())"
   ]
  },
  {
   "cell_type": "code",
   "execution_count": 11,
   "metadata": {
    "scrolled": false
   },
   "outputs": [
    {
     "name": "stdout",
     "output_type": "stream",
     "text": [
      "Loss: 39039266816.0\n",
      "Loss: 386527394.2178218\n",
      "Loss: 194225208.039801\n",
      "Loss: 129698560.85049833\n",
      "Loss: 97354780.08977556\n",
      "Loss: 77922688.25548902\n",
      "Loss: 64957182.722129785\n",
      "Loss: 55690822.84736092\n",
      "Loss: 48738160.81897628\n",
      "Loss: 43328819.99556049\n",
      "Loss: 39000266.54945055\n",
      "Loss: 35458008.00726612\n",
      "Loss: 32505634.318068277\n",
      "Loss: 30007122.840891622\n",
      "Loss: 27865286.806566738\n",
      "Loss: 26008838.651565623\n",
      "Loss: 24384301.571517803\n",
      "Loss: 22950774.142269254\n",
      "Loss: 21676439.098278735\n",
      "Loss: 20536174.022093635\n",
      "Loss: 19509878.468765616\n",
      "Loss: 18581278.82722513\n",
      "Loss: 17737058.980463427\n",
      "Loss: 16966217.65145589\n",
      "Loss: 16259586.345689297\n",
      "Loss: 15609462.941223511\n",
      "Loss: 15009329.802383699\n",
      "Loss: 14453634.511662347\n",
      "Loss: 13937617.570867548\n",
      "Loss: 13457175.738021372\n",
      "Loss: 13008752.687770743\n",
      "Loss: 12589250.827475008\n",
      "Loss: 12195959.642611684\n",
      "Loss: 11826497.066343533\n",
      "Loss: 11478761.192590415\n",
      "Loss: 11150890.264495859\n",
      "Loss: 10841229.329630658\n",
      "Loss: 10548302.300999729\n",
      "Loss: 10270788.42830834\n",
      "Loss: 10007502.388105614\n",
      "Loss: 9757377.359660085\n",
      "Loss: 9519450.576932456\n",
      "Loss: 9292850.944060938\n",
      "Loss: 9076788.378516624\n",
      "Loss: 8870544.607134743\n",
      "Loss: 8673465.189069096\n",
      "Loss: 8484952.579004563\n",
      "Loss: 8304460.075728568\n",
      "Loss: 8131486.526973547\n",
      "Loss: 7965571.6825137725\n",
      "Loss: 7806292.104779044\n",
      "Loss: 7653257.560478338\n",
      "Loss: 7506107.82849452\n",
      "Loss: 7364509.869081305\n",
      "Loss: 7228155.307535642\n",
      "Loss: 7096758.192328667\n",
      "Loss: 6970052.993394037\n",
      "Loss: 6847792.811085775\n",
      "Loss: 6729747.770384417\n",
      "Loss: 6615703.5783765465\n",
      "Loss: 6505460.22596234\n",
      "Loss: 6398830.817243075\n",
      "Loss: 6295640.512175456\n",
      "Loss: 6195725.569909538\n",
      "Loss: 6098932.481799719\n",
      "Loss: 6005117.184433164\n",
      "Loss: 5914144.344190274\n",
      "Loss: 5825886.705864796\n",
      "Loss: 5740224.498750184\n",
      "Loss: 5657044.894363136\n",
      "Loss: 5576241.510641337\n",
      "Loss: 5497713.9580340795\n",
      "Loss: 5421367.4234134145\n",
      "Loss: 5347112.288179701\n",
      "Loss: 5274863.7773273885\n",
      "Loss: 5204541.636581789\n",
      "Loss: 5136069.835021707\n",
      "Loss: 5069376.290871316\n",
      "Loss: 5004392.618382258\n",
      "Loss: 4941053.893937476\n",
      "Loss: 4879298.439695038\n",
      "Loss: 4819067.623256388\n",
      "Loss: 4760305.671991221\n",
      "Loss: 4702959.500783038\n",
      "Loss: 4646978.552077134\n",
      "Loss: 4592314.647217974\n",
      "Loss: 4538921.848157191\n",
      "Loss: 4486756.328697851\n",
      "Loss: 4435776.254516533\n",
      "Loss: 4385941.671272891\n",
      "Loss: 4337214.400177758\n",
      "Loss: 4289557.940446105\n",
      "Loss: 4242937.378111075\n",
      "Loss: 4197319.300720353\n",
      "Loss: 4152671.7174768643\n",
      "Loss: 4108963.9844226926\n",
      "Loss: 4066166.7342985105\n",
      "Loss: 4024251.8107411605\n",
      "Loss: 3983192.20650954\n",
      "Loss: 3942962.0054539945\n"
     ]
    }
   ],
   "source": [
    "epochs = 10000\n",
    "train_loss = 0\n",
    "for epoch in range(epochs):\n",
    "    preds = net(X_train.cuda())\n",
    "    opt.zero_grad()\n",
    "    loss = loss_fn(preds, y_train.cuda())\n",
    "    loss.backward()\n",
    "    opt.step()\n",
    "    train_loss += loss.item()\n",
    "    if epoch % 100 == 0:\n",
    "        print(f\"Loss: {loss.item()/(epoch+1)}\")"
   ]
  },
  {
   "cell_type": "code",
   "execution_count": 18,
   "metadata": {},
   "outputs": [],
   "source": [
    "pred = net(X_test.cuda())"
   ]
  },
  {
   "cell_type": "code",
   "execution_count": 19,
   "metadata": {},
   "outputs": [
    {
     "data": {
      "text/plain": [
       "tensor([[nan],\n",
       "        [nan],\n",
       "        [nan],\n",
       "        [nan],\n",
       "        [nan],\n",
       "        [nan],\n",
       "        [nan],\n",
       "        [nan],\n",
       "        [nan],\n",
       "        [nan],\n",
       "        [nan],\n",
       "        [nan],\n",
       "        [nan],\n",
       "        [nan],\n",
       "        [nan],\n",
       "        [nan],\n",
       "        [nan],\n",
       "        [nan],\n",
       "        [nan],\n",
       "        [nan]], device='cuda:0', grad_fn=<SliceBackward>)"
      ]
     },
     "execution_count": 19,
     "metadata": {},
     "output_type": "execute_result"
    }
   ],
   "source": [
    "pred[:20]"
   ]
  },
  {
   "cell_type": "code",
   "execution_count": null,
   "metadata": {},
   "outputs": [],
   "source": []
  }
 ],
 "metadata": {
  "kernelspec": {
   "display_name": "Python 3",
   "language": "python",
   "name": "python3"
  },
  "language_info": {
   "codemirror_mode": {
    "name": "ipython",
    "version": 3
   },
   "file_extension": ".py",
   "mimetype": "text/x-python",
   "name": "python",
   "nbconvert_exporter": "python",
   "pygments_lexer": "ipython3",
   "version": "3.7.6"
  }
 },
 "nbformat": 4,
 "nbformat_minor": 4
}
